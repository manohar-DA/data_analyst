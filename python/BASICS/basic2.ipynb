{
 "cells": [
  {
   "cell_type": "code",
   "execution_count": 20,
   "id": "47136ce9-29b0-4c88-93b1-4e31ea2a7824",
   "metadata": {},
   "outputs": [
    {
     "name": "stdout",
     "output_type": "stream",
     "text": [
      "10\n"
     ]
    }
   ],
   "source": [
    "                                         #Understanding Basic syntax and code structure\n",
    "  #single-line statements\n",
    "x = 10    #Assignment statement\n",
    "print(x)  #Function call statement"
   ]
  },
  {
   "cell_type": "code",
   "execution_count": 3,
   "id": "20fa9dd8-b73d-460e-be9a-c2b30436ece2",
   "metadata": {},
   "outputs": [],
   "source": [
    "#Multi-line statements\n",
    "# Generally they are 4 types:\n",
    "#Parenthesis \"()\", Square brackets \"[]\", Curly braces \"{}\", Backslash \"\\\"\n"
   ]
  },
  {
   "cell_type": "code",
   "execution_count": 5,
   "id": "91e3a367-9762-4084-b525-ebd3b838a86f",
   "metadata": {},
   "outputs": [
    {
     "name": "stdout",
     "output_type": "stream",
     "text": [
      "42\n"
     ]
    }
   ],
   "source": [
    "#Example of a multi-line statement using Parenthesis \"()\"\n",
    "total = (1+2+3+\n",
    "         4+5+6+\n",
    "         6+7+8)\n",
    "print(total)"
   ]
  },
  {
   "cell_type": "code",
   "execution_count": 7,
   "id": "5a85c03c-6e26-40e9-bf9f-8e67d744c674",
   "metadata": {},
   "outputs": [
    {
     "name": "stdout",
     "output_type": "stream",
     "text": [
      "[1, 2, 3, 4, 5, 6]\n"
     ]
    }
   ],
   "source": [
    "#Example of a multi-line statement using Square brackets \"[]\"\n",
    "my_list = [1, 2, 3,\n",
    "           4, 5, 6]\n",
    "print(my_list)"
   ]
  },
  {
   "cell_type": "code",
   "execution_count": 18,
   "id": "a16be525-8f12-4d1b-b410-524fdaedb0c3",
   "metadata": {},
   "outputs": [
    {
     "name": "stdout",
     "output_type": "stream",
     "text": [
      "{1, 2, 3, 4, 5, 6}\n",
      "{'name': 'ramu', 'age': '21', 'pincode': '564231'}\n"
     ]
    }
   ],
   "source": [
    "#Example of a multi-line statement using Curly braces \"{}\"\n",
    "my_set = {1, 2, 3,\n",
    "          4, 5, 6}\n",
    "print(my_set)\n",
    "#E.g2 \n",
    "my_dict = {\"name\":\"ramu\",\n",
    "           \"age\":\"21\",\n",
    "           \"pincode\":\"564231\"}\n",
    "print(my_dict)"
   ]
  },
  {
   "cell_type": "code",
   "execution_count": 19,
   "id": "6b8d90c0-4242-4fe5-88b9-0bf07caeebb9",
   "metadata": {},
   "outputs": [
    {
     "name": "stdout",
     "output_type": "stream",
     "text": [
      "45\n"
     ]
    }
   ],
   "source": [
    "#Example of a multi-line statement using backslash\n",
    "total = 1 + 2 + 3 + \\\n",
    "        4 + 5 + 6 + \\\n",
    "        7 + 8 + 9\n",
    "print(total)"
   ]
  },
  {
   "cell_type": "code",
   "execution_count": 22,
   "id": "bfae4d3d-db4e-4a5d-a892-050ac1226b02",
   "metadata": {},
   "outputs": [
    {
     "name": "stdout",
     "output_type": "stream",
     "text": [
      "10\n"
     ]
    }
   ],
   "source": [
    "    #Multiple statements on a single line\n",
    "#Example of multiple line on a single line\n",
    "x = 10; print(x)    #\" ; ---> semicolon used to separate them \" "
   ]
  },
  {
   "cell_type": "code",
   "execution_count": 24,
   "id": "00a7ebb0-ff7c-4aad-bccf-a6cdbd142504",
   "metadata": {},
   "outputs": [
    {
     "name": "stdout",
     "output_type": "stream",
     "text": [
      "10\n"
     ]
    }
   ],
   "source": [
    "                                                                        #COMMENTS\n",
    "#This is the single-line comments\n",
    "x = 10\n",
    "print(x)"
   ]
  },
  {
   "cell_type": "code",
   "execution_count": 31,
   "id": "93cdcace-a469-4aee-b9c8-c66ed6bdbc82",
   "metadata": {},
   "outputs": [
    {
     "name": "stdout",
     "output_type": "stream",
     "text": [
      "Hello from my_function\n",
      "\n",
      "This is a docstring for the function my_function.\n",
      "It explains what the function does.\n",
      "\n"
     ]
    }
   ],
   "source": [
    "\"\"\"\n",
    "This is the multi-line comment\n",
    "It can span multiple lines and is often used to document functions and\n",
    "\"\"\"\n",
    "def my_function():\n",
    "    \"\"\"\n",
    "    This is a docstring for the function my_function.\n",
    "    It explains what the function does.\n",
    "    \"\"\"\n",
    "    print(\"Hello from my_function\")\n",
    "my_function()\n",
    "print(my_function.__doc__)"
   ]
  }
 ],
 "metadata": {
  "kernelspec": {
   "display_name": "Python 3 (ipykernel)",
   "language": "python",
   "name": "python3"
  },
  "language_info": {
   "codemirror_mode": {
    "name": "ipython",
    "version": 3
   },
   "file_extension": ".py",
   "mimetype": "text/x-python",
   "name": "python",
   "nbconvert_exporter": "python",
   "pygments_lexer": "ipython3",
   "version": "3.13.2"
  }
 },
 "nbformat": 4,
 "nbformat_minor": 5
}
