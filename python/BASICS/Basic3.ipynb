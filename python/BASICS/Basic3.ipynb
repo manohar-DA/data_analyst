{
 "cells": [
  {
   "cell_type": "code",
   "execution_count": 1,
   "id": "ee852875-008d-4c90-9a69-3481f7e58955",
   "metadata": {},
   "outputs": [
    {
     "name": "stdout",
     "output_type": "stream",
     "text": [
      "x is greater than 5\n",
      "This is also inside the if block\n",
      "This is outside the if block\n"
     ]
    }
   ],
   "source": [
    "                                                           #Indentation\n",
    "#Example of Indentation in an if statement\n",
    "x = 10\n",
    "if x > 5:\n",
    "    print(\"x is greater than 5\")   #This line is indented\n",
    "    print(\"This is also inside the if block\")  #So is this\n",
    "print('This is outside the if block')\n"
   ]
  },
  {
   "cell_type": "code",
   "execution_count": 2,
   "id": "45ebda9a-a7a8-4525-ae77-655d502a4b1c",
   "metadata": {},
   "outputs": [
    {
     "name": "stdout",
     "output_type": "stream",
     "text": [
      "0\n",
      "Inside the loop\n",
      "1\n",
      "Inside the loop\n",
      "2\n",
      "Inside the loop\n",
      "3\n",
      "Inside the loop\n",
      "4\n",
      "Inside the loop\n",
      "Outside the loop\n"
     ]
    }
   ],
   "source": [
    "#Example of indentation in a for loop\n",
    "for i in range(5):\n",
    "    print(i)   #This line is indented, so it's inside the loop\n",
    "    print(\"Inside the loop\")\n",
    "print(\"Outside the loop\")   #This line is not indented, so ot's putside the loop"
   ]
  },
  {
   "cell_type": "code",
   "execution_count": 3,
   "id": "12e45fe6-d3ad-4dd3-9ee7-283220e328bb",
   "metadata": {},
   "outputs": [
    {
     "name": "stdout",
     "output_type": "stream",
     "text": [
      "Outside the function\n",
      "Hello from my_function\n",
      "This is also inside the function\n"
     ]
    }
   ],
   "source": [
    "#example of indentation in a function definition\n",
    "def my_function():\n",
    "    print(\"Hello from my_function\")    #This line is indented. so it's inside the function\n",
    "    print('This is also inside the function')\n",
    "print('Outside the function')  #This line is not indented, so it's outside the function\n",
    "my_function()"
   ]
  },
  {
   "cell_type": "code",
   "execution_count": 7,
   "id": "5e9a3b1f-6558-4b24-883b-7d08affedb2a",
   "metadata": {},
   "outputs": [
    {
     "name": "stdout",
     "output_type": "stream",
     "text": [
      "15\n"
     ]
    }
   ],
   "source": [
    "#Whitespace\n",
    "# GOOD PRACTICE: Spaces around operators\n",
    "x = 10 + 5\n",
    "y = x * 2\n",
    "print(x)\n",
    "# BAD PRACTICE: no spaces around operators\n",
    "x=10+5\n",
    "y=x*2"
   ]
  },
  {
   "cell_type": "code",
   "execution_count": 8,
   "id": "16dba030-ee49-4f03-93b8-c5f8a094f239",
   "metadata": {},
   "outputs": [
    {
     "name": "stdout",
     "output_type": "stream",
     "text": [
      "Area: 50\n",
      "Perimeter: 100\n"
     ]
    }
   ],
   "source": [
    "#Blank lines\n",
    "#Example of using blank lines to separate logical sections of code\n",
    "def calculate_area(length, width):\n",
    "    '''Calculate the area of a rectangle.'''\n",
    "    area = length * width\n",
    "    return area\n",
    "\n",
    "def calculate_perimeter(length, width):\n",
    "    perimeter = 2 * (length * width)\n",
    "    return perimeter\n",
    "\n",
    "#Example usage\n",
    "length = 10\n",
    "width = 5\n",
    "\n",
    "area = calculate_area(length, width)\n",
    "perimeter = calculate_perimeter(length, width)\n",
    "\n",
    "print(\"Area:\", area)\n",
    "print(\"Perimeter:\", perimeter)"
   ]
  },
  {
   "cell_type": "code",
   "execution_count": 9,
   "id": "56f01455-3409-4223-a723-3b5125033f1c",
   "metadata": {},
   "outputs": [
    {
     "name": "stdout",
     "output_type": "stream",
     "text": [
      "False\n"
     ]
    }
   ],
   "source": [
    "#Whitespace in strings matters\n",
    "string1 = \"Hello World\"\n",
    "string2 = \" Hello World \"\n",
    "\n",
    "print(string1 == string2)  #output: false"
   ]
  },
  {
   "cell_type": "code",
   "execution_count": 12,
   "id": "9c9e163e-c2e6-4bb4-88b6-8bf9ff15bbc8",
   "metadata": {},
   "outputs": [],
   "source": [
    "                                                        #NAMING CONVENTIONS\n",
    "# Examples of naming conventions\n",
    "# Variables \n",
    "      # lowercases, _(underscore) \n",
    "my_variables = 10\n",
    "user_name = 'John Doe'\n",
    "     # lowercase, _(underscore) \n",
    "#Functions\n",
    "   \n",
    "def calculate_area(length, width):\n",
    "    return length * width\n",
    "\n",
    "#Classes\n",
    "      # PascalCase(UpperCamelCase) \n",
    "class Myclass:\n",
    "    pass\n",
    "\n",
    "# Constants\n",
    "     # uppercase, _(underscore) \n",
    "PI = 3.14159\n",
    "MAX_VALUE = 1000\n"
   ]
  },
  {
   "cell_type": "code",
   "execution_count": 18,
   "id": "b9d241ae-07ce-46f4-80b1-c07961e873ba",
   "metadata": {},
   "outputs": [
    {
     "name": "stdout",
     "output_type": "stream",
     "text": [
      "9.5\n"
     ]
    }
   ],
   "source": [
    "#simple function illustrator\n",
    "def calculate_sum(a, b):\n",
    "    return a + b\n",
    "\n",
    "result = calculate_sum(3.5, 6)\n",
    "print(result)"
   ]
  },
  {
   "cell_type": "code",
   "execution_count": 19,
   "id": "cb31afef-bf01-4dbc-a62f-960354d948b4",
   "metadata": {},
   "outputs": [
    {
     "name": "stdout",
     "output_type": "stream",
     "text": [
      "805\n"
     ]
    }
   ],
   "source": [
    "#simple function illustrator 2\n",
    "def calculate_area(length, width):\n",
    "    return length * width\n",
    "\n",
    "result = calculate_area(35, 23)\n",
    "print(result)"
   ]
  }
 ],
 "metadata": {
  "kernelspec": {
   "display_name": "Python 3 (ipykernel)",
   "language": "python",
   "name": "python3"
  },
  "language_info": {
   "codemirror_mode": {
    "name": "ipython",
    "version": 3
   },
   "file_extension": ".py",
   "mimetype": "text/x-python",
   "name": "python",
   "nbconvert_exporter": "python",
   "pygments_lexer": "ipython3",
   "version": "3.13.2"
  }
 },
 "nbformat": 4,
 "nbformat_minor": 5
}
